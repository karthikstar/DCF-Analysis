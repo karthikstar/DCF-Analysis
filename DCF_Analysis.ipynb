{
  "nbformat": 4,
  "nbformat_minor": 0,
  "metadata": {
    "colab": {
      "provenance": [],
      "authorship_tag": "ABX9TyOp1k7LRahlRxZIF5mx1YKM",
      "include_colab_link": true
    },
    "kernelspec": {
      "name": "python3",
      "display_name": "Python 3"
    },
    "language_info": {
      "name": "python"
    }
  },
  "cells": [
    {
      "cell_type": "markdown",
      "metadata": {
        "id": "view-in-github",
        "colab_type": "text"
      },
      "source": [
        "<a href=\"https://colab.research.google.com/github/karthikstar/DCF-Analysis/blob/main/DCF_Analysis.ipynb\" target=\"_parent\"><img src=\"https://colab.research.google.com/assets/colab-badge.svg\" alt=\"Open In Colab\"/></a>"
      ]
    },
    {
      "cell_type": "markdown",
      "source": [
        "# Investment Thesis\n",
        "\n",
        "Apple is one of the world’s largest and most profitable companies, with consistent free cash flow generation.\n",
        "\n",
        "Despite strong fundamentals, a conservative DCF approach suggests the stock may be priced above its intrinsic value.\n",
        "\n",
        "Key driver: slowing free cash flow growth compared to its past performance.\n",
        "\n",
        "# Discount Cash Flow Model for Intrinsic Value\n",
        "\n",
        "A Discounted Cash Flow (DCF) model is a valuation method used to estimate the intrinsic value of a stock or an investment based on its expected future cash flows. DCF attempts to figure out the value of an investment today, based on projections of how much money it will generate in the future. (Investopedia)\n",
        "\n",
        "---\n",
        "\n",
        "## Why Use Discount Cash Flow Model?\n",
        "\n",
        "- **Free Cash Flow is King**: stocks and business valuation emphasize the critical importance of a company's ability to generate cash. DCF estimates future cash flow to value today's stock price.  \n",
        "- **Time Value of Money**: Money in the future is worth less than money today. So, we need to *discount* future cash flows to find out what they're worth right now.\n",
        "\n",
        "---\n",
        "\n",
        "## Steps of the Discount Cash Flow Model\n",
        "\n",
        "1. **Estimate Future Cash Flows**  \n",
        "   *\"First, we predict how much cash the company will generate in the future, usually for the next 5–10 years.\"*\n",
        "\n",
        "2. **Determine a Discount Rate**  \n",
        "   *\"Then, we choose a 'discount rate.' This is like an interest rate that represents the risk of investing in the company and the time value of money.\"*\n",
        "\n",
        "3. **Calculate Present Value**  \n",
        "   *\"We use this discount rate to calculate what those future cash flows are worth today. This is called the 'present value.' \"*\n",
        "\n",
        "4. **Terminal Value**  \n",
        "   *\"We also estimate a 'terminal value' — what the company might be worth after our specific forecast period.\"*\n",
        "\n",
        "5. **Sum It Up**  \n",
        "   *\"We add up all these present values to get the estimated value of the company.\"*\n",
        "\n",
        "6. **Per Share Value**  \n",
        "   *\"Finally, we divide this by the number of shares to get a per-share value.\"*\n"
      ],
      "metadata": {
        "id": "TwJRePiCYzsO"
      }
    },
    {
      "cell_type": "code",
      "source": [
        "#import pandas as pd\n",
        "import datetime\n",
        "import time\n",
        "import numpy as np"
      ],
      "metadata": {
        "id": "pzCbkyumZJx0"
      },
      "execution_count": null,
      "outputs": []
    },
    {
      "cell_type": "code",
      "source": [
        "!pip install yahooquery"
      ],
      "metadata": {
        "colab": {
          "base_uri": "https://localhost:8080/"
        },
        "id": "vTIK5jKuZJ82",
        "outputId": "3d90118c-de79-4b23-e37c-04ff653c6e15"
      },
      "execution_count": null,
      "outputs": [
        {
          "output_type": "stream",
          "name": "stdout",
          "text": [
            "Collecting yahooquery\n",
            "  Downloading yahooquery-2.4.1-py3-none-any.whl.metadata (4.8 kB)\n",
            "Requirement already satisfied: beautifulsoup4>=4.12.2 in /usr/local/lib/python3.12/dist-packages (from yahooquery) (4.13.5)\n",
            "Requirement already satisfied: curl-cffi>=0.10.0 in /usr/local/lib/python3.12/dist-packages (from yahooquery) (0.13.0)\n",
            "Requirement already satisfied: lxml>=4.9.3 in /usr/local/lib/python3.12/dist-packages (from yahooquery) (5.4.0)\n",
            "Requirement already satisfied: pandas>=2.2.0 in /usr/local/lib/python3.12/dist-packages (from yahooquery) (2.2.2)\n",
            "Collecting requests-futures>=1.0.1 (from yahooquery)\n",
            "  Downloading requests_futures-1.0.2-py2.py3-none-any.whl.metadata (12 kB)\n",
            "Requirement already satisfied: tqdm>=4.65.0 in /usr/local/lib/python3.12/dist-packages (from yahooquery) (4.67.1)\n",
            "Requirement already satisfied: soupsieve>1.2 in /usr/local/lib/python3.12/dist-packages (from beautifulsoup4>=4.12.2->yahooquery) (2.8)\n",
            "Requirement already satisfied: typing-extensions>=4.0.0 in /usr/local/lib/python3.12/dist-packages (from beautifulsoup4>=4.12.2->yahooquery) (4.15.0)\n",
            "Requirement already satisfied: cffi>=1.12.0 in /usr/local/lib/python3.12/dist-packages (from curl-cffi>=0.10.0->yahooquery) (2.0.0)\n",
            "Requirement already satisfied: certifi>=2024.2.2 in /usr/local/lib/python3.12/dist-packages (from curl-cffi>=0.10.0->yahooquery) (2025.8.3)\n",
            "Requirement already satisfied: numpy>=1.26.0 in /usr/local/lib/python3.12/dist-packages (from pandas>=2.2.0->yahooquery) (2.0.2)\n",
            "Requirement already satisfied: python-dateutil>=2.8.2 in /usr/local/lib/python3.12/dist-packages (from pandas>=2.2.0->yahooquery) (2.9.0.post0)\n",
            "Requirement already satisfied: pytz>=2020.1 in /usr/local/lib/python3.12/dist-packages (from pandas>=2.2.0->yahooquery) (2025.2)\n",
            "Requirement already satisfied: tzdata>=2022.7 in /usr/local/lib/python3.12/dist-packages (from pandas>=2.2.0->yahooquery) (2025.2)\n",
            "Requirement already satisfied: requests>=1.2.0 in /usr/local/lib/python3.12/dist-packages (from requests-futures>=1.0.1->yahooquery) (2.32.4)\n",
            "Requirement already satisfied: pycparser in /usr/local/lib/python3.12/dist-packages (from cffi>=1.12.0->curl-cffi>=0.10.0->yahooquery) (2.23)\n",
            "Requirement already satisfied: six>=1.5 in /usr/local/lib/python3.12/dist-packages (from python-dateutil>=2.8.2->pandas>=2.2.0->yahooquery) (1.17.0)\n",
            "Requirement already satisfied: charset_normalizer<4,>=2 in /usr/local/lib/python3.12/dist-packages (from requests>=1.2.0->requests-futures>=1.0.1->yahooquery) (3.4.3)\n",
            "Requirement already satisfied: idna<4,>=2.5 in /usr/local/lib/python3.12/dist-packages (from requests>=1.2.0->requests-futures>=1.0.1->yahooquery) (3.10)\n",
            "Requirement already satisfied: urllib3<3,>=1.21.1 in /usr/local/lib/python3.12/dist-packages (from requests>=1.2.0->requests-futures>=1.0.1->yahooquery) (2.5.0)\n",
            "Downloading yahooquery-2.4.1-py3-none-any.whl (50 kB)\n",
            "\u001b[2K   \u001b[90m━━━━━━━━━━━━━━━━━━━━━━━━━━━━━━━━━━━━━━━━\u001b[0m \u001b[32m50.7/50.7 kB\u001b[0m \u001b[31m1.7 MB/s\u001b[0m eta \u001b[36m0:00:00\u001b[0m\n",
            "\u001b[?25hDownloading requests_futures-1.0.2-py2.py3-none-any.whl (7.7 kB)\n",
            "Installing collected packages: requests-futures, yahooquery\n",
            "Successfully installed requests-futures-1.0.2 yahooquery-2.4.1\n"
          ]
        }
      ]
    },
    {
      "cell_type": "code",
      "source": [
        "from yahooquery import Ticker #to get data from financial statements"
      ],
      "metadata": {
        "id": "fUYv9SszZYWG"
      },
      "execution_count": null,
      "outputs": []
    },
    {
      "cell_type": "code",
      "source": [
        "#to enable all rows to be seen\n",
        "pd.set_option('display.max_rows', None)"
      ],
      "metadata": {
        "id": "gNh3d9BKZYY7"
      },
      "execution_count": null,
      "outputs": []
    },
    {
      "cell_type": "code",
      "source": [
        "symbol = 'AAPL'\n",
        "stock = Ticker(symbol)"
      ],
      "metadata": {
        "id": "7xpaaDgBZYbh"
      },
      "execution_count": null,
      "outputs": []
    },
    {
      "cell_type": "markdown",
      "source": [
        "# Get Historic FCF\n",
        "- Create a simple forecast of future FCF based on previous FCF growth ratio\n",
        "\n",
        "For model simplicity, FCF projections can be enhanced by considering the individual components of FCF, macroeconomic factors and sector growth prospects, etc"
      ],
      "metadata": {
        "id": "F_YZdCnSZtPo"
      }
    },
    {
      "cell_type": "code",
      "source": [
        "df_cash = pd.DataFrame(stock.cash_flow())\n",
        "df_cash['asOfDate'] = pd.to_datetime(df_cash['asOfDate']) #ensure its a DateTime column\n",
        "\n",
        "df_cash.set_index('asOfDate', inplace = True) #set as index, since its a time series data\n",
        "\n",
        "cash_period = df_cash['periodType'].iloc[0]\n",
        "\n",
        "\n",
        "df_cash = df_cash.iloc[:, 2:] #provide everything from index 2 and beyond\n",
        "df_cash['FreeCashFlow']"
      ],
      "metadata": {
        "colab": {
          "base_uri": "https://localhost:8080/",
          "height": 303
        },
        "id": "COdd2QwBZYdW",
        "outputId": "fa88d404-e097-42c8-afaf-16aa0856e519"
      },
      "execution_count": null,
      "outputs": [
        {
          "output_type": "execute_result",
          "data": {
            "text/plain": [
              "asOfDate\n",
              "2020-09-30             NaN\n",
              "2021-09-30    9.295300e+10\n",
              "2022-09-30    1.114430e+11\n",
              "2023-09-30    9.958400e+10\n",
              "2024-09-30    1.088070e+11\n",
              "2025-06-30    9.618400e+10\n",
              "Name: FreeCashFlow, dtype: float64"
            ],
            "text/html": [
              "<div>\n",
              "<style scoped>\n",
              "    .dataframe tbody tr th:only-of-type {\n",
              "        vertical-align: middle;\n",
              "    }\n",
              "\n",
              "    .dataframe tbody tr th {\n",
              "        vertical-align: top;\n",
              "    }\n",
              "\n",
              "    .dataframe thead th {\n",
              "        text-align: right;\n",
              "    }\n",
              "</style>\n",
              "<table border=\"1\" class=\"dataframe\">\n",
              "  <thead>\n",
              "    <tr style=\"text-align: right;\">\n",
              "      <th></th>\n",
              "      <th>FreeCashFlow</th>\n",
              "    </tr>\n",
              "    <tr>\n",
              "      <th>asOfDate</th>\n",
              "      <th></th>\n",
              "    </tr>\n",
              "  </thead>\n",
              "  <tbody>\n",
              "    <tr>\n",
              "      <th>2020-09-30</th>\n",
              "      <td>NaN</td>\n",
              "    </tr>\n",
              "    <tr>\n",
              "      <th>2021-09-30</th>\n",
              "      <td>9.295300e+10</td>\n",
              "    </tr>\n",
              "    <tr>\n",
              "      <th>2022-09-30</th>\n",
              "      <td>1.114430e+11</td>\n",
              "    </tr>\n",
              "    <tr>\n",
              "      <th>2023-09-30</th>\n",
              "      <td>9.958400e+10</td>\n",
              "    </tr>\n",
              "    <tr>\n",
              "      <th>2024-09-30</th>\n",
              "      <td>1.088070e+11</td>\n",
              "    </tr>\n",
              "    <tr>\n",
              "      <th>2025-06-30</th>\n",
              "      <td>9.618400e+10</td>\n",
              "    </tr>\n",
              "  </tbody>\n",
              "</table>\n",
              "</div><br><label><b>dtype:</b> float64</label>"
            ]
          },
          "metadata": {},
          "execution_count": 10
        }
      ]
    },
    {
      "cell_type": "markdown",
      "source": [
        "### Get historic Net Debt"
      ],
      "metadata": {
        "id": "Hgg9rztnbOEC"
      }
    },
    {
      "cell_type": "code",
      "source": [
        "df_balance = pd.DataFrame(stock.balance_sheet())\n",
        "\n",
        "df_balance['asOfDate'] = pd.to_datetime(df_balance['asOfDate'])\n",
        "\n",
        "df_balance.set_index('asOfDate', inplace = True)\n",
        "\n",
        "df_balance = df_balance.iloc[:, 2:]\n",
        "\n",
        "df_balance"
      ],
      "metadata": {
        "colab": {
          "base_uri": "https://localhost:8080/",
          "height": 373
        },
        "id": "VnhJ-f6fZ74o",
        "outputId": "ee0b4710-9931-4c76-a418-8affc0d69b04"
      },
      "execution_count": null,
      "outputs": [
        {
          "output_type": "execute_result",
          "data": {
            "text/plain": [
              "            AccountsPayable  AccountsReceivable  AccumulatedDepreciation  \\\n",
              "asOfDate                                                                   \n",
              "2020-09-30              NaN                 NaN                      NaN   \n",
              "2021-09-30     5.476300e+10        2.627800e+10            -7.028300e+10   \n",
              "2022-09-30     6.411500e+10        2.818400e+10            -7.234000e+10   \n",
              "2023-09-30     6.261100e+10        2.950800e+10            -7.088400e+10   \n",
              "2024-09-30     6.896000e+10        3.341000e+10            -7.344800e+10   \n",
              "\n",
              "            AvailableForSaleSecurities  CapitalLeaseObligations  CapitalStock  \\\n",
              "asOfDate                                                                        \n",
              "2020-09-30                         NaN             9.842000e+09           NaN   \n",
              "2021-09-30                1.278770e+11             1.180300e+10  5.736500e+10   \n",
              "2022-09-30                1.208050e+11             1.241100e+10  6.484900e+10   \n",
              "2023-09-30                1.005440e+11             1.284200e+10  7.381200e+10   \n",
              "2024-09-30                9.147900e+10                      NaN  8.327600e+10   \n",
              "\n",
              "            CashAndCashEquivalents  \\\n",
              "asOfDate                             \n",
              "2020-09-30                     NaN   \n",
              "2021-09-30            3.494000e+10   \n",
              "2022-09-30            2.364600e+10   \n",
              "2023-09-30            2.996500e+10   \n",
              "2024-09-30            2.994300e+10   \n",
              "\n",
              "            CashCashEquivalentsAndShortTermInvestments  CashEquivalents  \\\n",
              "asOfDate                                                                  \n",
              "2020-09-30                                         NaN              NaN   \n",
              "2021-09-30                                6.263900e+10     1.763500e+10   \n",
              "2022-09-30                                4.830400e+10     5.100000e+09   \n",
              "2023-09-30                                6.155500e+10     1.606000e+09   \n",
              "2024-09-30                                6.517100e+10     2.744000e+09   \n",
              "\n",
              "            CashFinancial  ...  TotalCapitalization     TotalDebt  \\\n",
              "asOfDate                   ...                                      \n",
              "2020-09-30            NaN  ...                  NaN           NaN   \n",
              "2021-09-30   1.730500e+10  ...         1.721960e+11  1.365220e+11   \n",
              "2022-09-30   1.854600e+10  ...         1.496310e+11  1.324800e+11   \n",
              "2023-09-30   2.835900e+10  ...         1.574270e+11  1.110880e+11   \n",
              "2024-09-30   2.719900e+10  ...         1.427000e+11  1.066290e+11   \n",
              "\n",
              "            TotalEquityGrossMinorityInterest  \\\n",
              "asOfDate                                       \n",
              "2020-09-30                               NaN   \n",
              "2021-09-30                      6.309000e+10   \n",
              "2022-09-30                      5.067200e+10   \n",
              "2023-09-30                      6.214600e+10   \n",
              "2024-09-30                      5.695000e+10   \n",
              "\n",
              "            TotalLiabilitiesNetMinorityInterest  TotalNonCurrentAssets  \\\n",
              "asOfDate                                                                 \n",
              "2020-09-30                                  NaN                    NaN   \n",
              "2021-09-30                         2.879120e+11           2.161660e+11   \n",
              "2022-09-30                         3.020830e+11           2.173500e+11   \n",
              "2023-09-30                         2.904370e+11           2.090170e+11   \n",
              "2024-09-30                         3.080300e+11           2.119930e+11   \n",
              "\n",
              "            TotalNonCurrentLiabilitiesNetMinorityInterest  TotalTaxPayable  \\\n",
              "asOfDate                                                                     \n",
              "2020-09-30                                            NaN              NaN   \n",
              "2021-09-30                                   1.624310e+11              NaN   \n",
              "2022-09-30                                   1.481010e+11     6.552000e+09   \n",
              "2023-09-30                                   1.451290e+11     8.819000e+09   \n",
              "2024-09-30                                   1.316380e+11     2.660100e+10   \n",
              "\n",
              "            TradeandOtherPayablesNonCurrent  TreasurySharesNumber  \\\n",
              "asOfDate                                                            \n",
              "2020-09-30                              NaN                   NaN   \n",
              "2021-09-30                     2.468900e+10                   NaN   \n",
              "2022-09-30                     1.665700e+10                   NaN   \n",
              "2023-09-30                     1.545700e+10                   0.0   \n",
              "2024-09-30                     9.254000e+09                   NaN   \n",
              "\n",
              "            WorkingCapital  \n",
              "asOfDate                    \n",
              "2020-09-30             NaN  \n",
              "2021-09-30    9.355000e+09  \n",
              "2022-09-30   -1.857700e+10  \n",
              "2023-09-30   -1.742000e+09  \n",
              "2024-09-30   -2.340500e+10  \n",
              "\n",
              "[5 rows x 68 columns]"
            ],
            "text/html": [
              "\n",
              "  <div id=\"df-f4263525-27dd-46fd-92d2-73a3a4c83e66\" class=\"colab-df-container\">\n",
              "    <div>\n",
              "<style scoped>\n",
              "    .dataframe tbody tr th:only-of-type {\n",
              "        vertical-align: middle;\n",
              "    }\n",
              "\n",
              "    .dataframe tbody tr th {\n",
              "        vertical-align: top;\n",
              "    }\n",
              "\n",
              "    .dataframe thead th {\n",
              "        text-align: right;\n",
              "    }\n",
              "</style>\n",
              "<table border=\"1\" class=\"dataframe\">\n",
              "  <thead>\n",
              "    <tr style=\"text-align: right;\">\n",
              "      <th></th>\n",
              "      <th>AccountsPayable</th>\n",
              "      <th>AccountsReceivable</th>\n",
              "      <th>AccumulatedDepreciation</th>\n",
              "      <th>AvailableForSaleSecurities</th>\n",
              "      <th>CapitalLeaseObligations</th>\n",
              "      <th>CapitalStock</th>\n",
              "      <th>CashAndCashEquivalents</th>\n",
              "      <th>CashCashEquivalentsAndShortTermInvestments</th>\n",
              "      <th>CashEquivalents</th>\n",
              "      <th>CashFinancial</th>\n",
              "      <th>...</th>\n",
              "      <th>TotalCapitalization</th>\n",
              "      <th>TotalDebt</th>\n",
              "      <th>TotalEquityGrossMinorityInterest</th>\n",
              "      <th>TotalLiabilitiesNetMinorityInterest</th>\n",
              "      <th>TotalNonCurrentAssets</th>\n",
              "      <th>TotalNonCurrentLiabilitiesNetMinorityInterest</th>\n",
              "      <th>TotalTaxPayable</th>\n",
              "      <th>TradeandOtherPayablesNonCurrent</th>\n",
              "      <th>TreasurySharesNumber</th>\n",
              "      <th>WorkingCapital</th>\n",
              "    </tr>\n",
              "    <tr>\n",
              "      <th>asOfDate</th>\n",
              "      <th></th>\n",
              "      <th></th>\n",
              "      <th></th>\n",
              "      <th></th>\n",
              "      <th></th>\n",
              "      <th></th>\n",
              "      <th></th>\n",
              "      <th></th>\n",
              "      <th></th>\n",
              "      <th></th>\n",
              "      <th></th>\n",
              "      <th></th>\n",
              "      <th></th>\n",
              "      <th></th>\n",
              "      <th></th>\n",
              "      <th></th>\n",
              "      <th></th>\n",
              "      <th></th>\n",
              "      <th></th>\n",
              "      <th></th>\n",
              "      <th></th>\n",
              "    </tr>\n",
              "  </thead>\n",
              "  <tbody>\n",
              "    <tr>\n",
              "      <th>2020-09-30</th>\n",
              "      <td>NaN</td>\n",
              "      <td>NaN</td>\n",
              "      <td>NaN</td>\n",
              "      <td>NaN</td>\n",
              "      <td>9.842000e+09</td>\n",
              "      <td>NaN</td>\n",
              "      <td>NaN</td>\n",
              "      <td>NaN</td>\n",
              "      <td>NaN</td>\n",
              "      <td>NaN</td>\n",
              "      <td>...</td>\n",
              "      <td>NaN</td>\n",
              "      <td>NaN</td>\n",
              "      <td>NaN</td>\n",
              "      <td>NaN</td>\n",
              "      <td>NaN</td>\n",
              "      <td>NaN</td>\n",
              "      <td>NaN</td>\n",
              "      <td>NaN</td>\n",
              "      <td>NaN</td>\n",
              "      <td>NaN</td>\n",
              "    </tr>\n",
              "    <tr>\n",
              "      <th>2021-09-30</th>\n",
              "      <td>5.476300e+10</td>\n",
              "      <td>2.627800e+10</td>\n",
              "      <td>-7.028300e+10</td>\n",
              "      <td>1.278770e+11</td>\n",
              "      <td>1.180300e+10</td>\n",
              "      <td>5.736500e+10</td>\n",
              "      <td>3.494000e+10</td>\n",
              "      <td>6.263900e+10</td>\n",
              "      <td>1.763500e+10</td>\n",
              "      <td>1.730500e+10</td>\n",
              "      <td>...</td>\n",
              "      <td>1.721960e+11</td>\n",
              "      <td>1.365220e+11</td>\n",
              "      <td>6.309000e+10</td>\n",
              "      <td>2.879120e+11</td>\n",
              "      <td>2.161660e+11</td>\n",
              "      <td>1.624310e+11</td>\n",
              "      <td>NaN</td>\n",
              "      <td>2.468900e+10</td>\n",
              "      <td>NaN</td>\n",
              "      <td>9.355000e+09</td>\n",
              "    </tr>\n",
              "    <tr>\n",
              "      <th>2022-09-30</th>\n",
              "      <td>6.411500e+10</td>\n",
              "      <td>2.818400e+10</td>\n",
              "      <td>-7.234000e+10</td>\n",
              "      <td>1.208050e+11</td>\n",
              "      <td>1.241100e+10</td>\n",
              "      <td>6.484900e+10</td>\n",
              "      <td>2.364600e+10</td>\n",
              "      <td>4.830400e+10</td>\n",
              "      <td>5.100000e+09</td>\n",
              "      <td>1.854600e+10</td>\n",
              "      <td>...</td>\n",
              "      <td>1.496310e+11</td>\n",
              "      <td>1.324800e+11</td>\n",
              "      <td>5.067200e+10</td>\n",
              "      <td>3.020830e+11</td>\n",
              "      <td>2.173500e+11</td>\n",
              "      <td>1.481010e+11</td>\n",
              "      <td>6.552000e+09</td>\n",
              "      <td>1.665700e+10</td>\n",
              "      <td>NaN</td>\n",
              "      <td>-1.857700e+10</td>\n",
              "    </tr>\n",
              "    <tr>\n",
              "      <th>2023-09-30</th>\n",
              "      <td>6.261100e+10</td>\n",
              "      <td>2.950800e+10</td>\n",
              "      <td>-7.088400e+10</td>\n",
              "      <td>1.005440e+11</td>\n",
              "      <td>1.284200e+10</td>\n",
              "      <td>7.381200e+10</td>\n",
              "      <td>2.996500e+10</td>\n",
              "      <td>6.155500e+10</td>\n",
              "      <td>1.606000e+09</td>\n",
              "      <td>2.835900e+10</td>\n",
              "      <td>...</td>\n",
              "      <td>1.574270e+11</td>\n",
              "      <td>1.110880e+11</td>\n",
              "      <td>6.214600e+10</td>\n",
              "      <td>2.904370e+11</td>\n",
              "      <td>2.090170e+11</td>\n",
              "      <td>1.451290e+11</td>\n",
              "      <td>8.819000e+09</td>\n",
              "      <td>1.545700e+10</td>\n",
              "      <td>0.0</td>\n",
              "      <td>-1.742000e+09</td>\n",
              "    </tr>\n",
              "    <tr>\n",
              "      <th>2024-09-30</th>\n",
              "      <td>6.896000e+10</td>\n",
              "      <td>3.341000e+10</td>\n",
              "      <td>-7.344800e+10</td>\n",
              "      <td>9.147900e+10</td>\n",
              "      <td>NaN</td>\n",
              "      <td>8.327600e+10</td>\n",
              "      <td>2.994300e+10</td>\n",
              "      <td>6.517100e+10</td>\n",
              "      <td>2.744000e+09</td>\n",
              "      <td>2.719900e+10</td>\n",
              "      <td>...</td>\n",
              "      <td>1.427000e+11</td>\n",
              "      <td>1.066290e+11</td>\n",
              "      <td>5.695000e+10</td>\n",
              "      <td>3.080300e+11</td>\n",
              "      <td>2.119930e+11</td>\n",
              "      <td>1.316380e+11</td>\n",
              "      <td>2.660100e+10</td>\n",
              "      <td>9.254000e+09</td>\n",
              "      <td>NaN</td>\n",
              "      <td>-2.340500e+10</td>\n",
              "    </tr>\n",
              "  </tbody>\n",
              "</table>\n",
              "<p>5 rows × 68 columns</p>\n",
              "</div>\n",
              "    <div class=\"colab-df-buttons\">\n",
              "\n",
              "  <div class=\"colab-df-container\">\n",
              "    <button class=\"colab-df-convert\" onclick=\"convertToInteractive('df-f4263525-27dd-46fd-92d2-73a3a4c83e66')\"\n",
              "            title=\"Convert this dataframe to an interactive table.\"\n",
              "            style=\"display:none;\">\n",
              "\n",
              "  <svg xmlns=\"http://www.w3.org/2000/svg\" height=\"24px\" viewBox=\"0 -960 960 960\">\n",
              "    <path d=\"M120-120v-720h720v720H120Zm60-500h600v-160H180v160Zm220 220h160v-160H400v160Zm0 220h160v-160H400v160ZM180-400h160v-160H180v160Zm440 0h160v-160H620v160ZM180-180h160v-160H180v160Zm440 0h160v-160H620v160Z\"/>\n",
              "  </svg>\n",
              "    </button>\n",
              "\n",
              "  <style>\n",
              "    .colab-df-container {\n",
              "      display:flex;\n",
              "      gap: 12px;\n",
              "    }\n",
              "\n",
              "    .colab-df-convert {\n",
              "      background-color: #E8F0FE;\n",
              "      border: none;\n",
              "      border-radius: 50%;\n",
              "      cursor: pointer;\n",
              "      display: none;\n",
              "      fill: #1967D2;\n",
              "      height: 32px;\n",
              "      padding: 0 0 0 0;\n",
              "      width: 32px;\n",
              "    }\n",
              "\n",
              "    .colab-df-convert:hover {\n",
              "      background-color: #E2EBFA;\n",
              "      box-shadow: 0px 1px 2px rgba(60, 64, 67, 0.3), 0px 1px 3px 1px rgba(60, 64, 67, 0.15);\n",
              "      fill: #174EA6;\n",
              "    }\n",
              "\n",
              "    .colab-df-buttons div {\n",
              "      margin-bottom: 4px;\n",
              "    }\n",
              "\n",
              "    [theme=dark] .colab-df-convert {\n",
              "      background-color: #3B4455;\n",
              "      fill: #D2E3FC;\n",
              "    }\n",
              "\n",
              "    [theme=dark] .colab-df-convert:hover {\n",
              "      background-color: #434B5C;\n",
              "      box-shadow: 0px 1px 3px 1px rgba(0, 0, 0, 0.15);\n",
              "      filter: drop-shadow(0px 1px 2px rgba(0, 0, 0, 0.3));\n",
              "      fill: #FFFFFF;\n",
              "    }\n",
              "  </style>\n",
              "\n",
              "    <script>\n",
              "      const buttonEl =\n",
              "        document.querySelector('#df-f4263525-27dd-46fd-92d2-73a3a4c83e66 button.colab-df-convert');\n",
              "      buttonEl.style.display =\n",
              "        google.colab.kernel.accessAllowed ? 'block' : 'none';\n",
              "\n",
              "      async function convertToInteractive(key) {\n",
              "        const element = document.querySelector('#df-f4263525-27dd-46fd-92d2-73a3a4c83e66');\n",
              "        const dataTable =\n",
              "          await google.colab.kernel.invokeFunction('convertToInteractive',\n",
              "                                                    [key], {});\n",
              "        if (!dataTable) return;\n",
              "\n",
              "        const docLinkHtml = 'Like what you see? Visit the ' +\n",
              "          '<a target=\"_blank\" href=https://colab.research.google.com/notebooks/data_table.ipynb>data table notebook</a>'\n",
              "          + ' to learn more about interactive tables.';\n",
              "        element.innerHTML = '';\n",
              "        dataTable['output_type'] = 'display_data';\n",
              "        await google.colab.output.renderOutput(dataTable, element);\n",
              "        const docLink = document.createElement('div');\n",
              "        docLink.innerHTML = docLinkHtml;\n",
              "        element.appendChild(docLink);\n",
              "      }\n",
              "    </script>\n",
              "  </div>\n",
              "\n",
              "\n",
              "    <div id=\"df-13af1feb-ab72-444f-b768-45ecabe2d69b\">\n",
              "      <button class=\"colab-df-quickchart\" onclick=\"quickchart('df-13af1feb-ab72-444f-b768-45ecabe2d69b')\"\n",
              "                title=\"Suggest charts\"\n",
              "                style=\"display:none;\">\n",
              "\n",
              "<svg xmlns=\"http://www.w3.org/2000/svg\" height=\"24px\"viewBox=\"0 0 24 24\"\n",
              "     width=\"24px\">\n",
              "    <g>\n",
              "        <path d=\"M19 3H5c-1.1 0-2 .9-2 2v14c0 1.1.9 2 2 2h14c1.1 0 2-.9 2-2V5c0-1.1-.9-2-2-2zM9 17H7v-7h2v7zm4 0h-2V7h2v10zm4 0h-2v-4h2v4z\"/>\n",
              "    </g>\n",
              "</svg>\n",
              "      </button>\n",
              "\n",
              "<style>\n",
              "  .colab-df-quickchart {\n",
              "      --bg-color: #E8F0FE;\n",
              "      --fill-color: #1967D2;\n",
              "      --hover-bg-color: #E2EBFA;\n",
              "      --hover-fill-color: #174EA6;\n",
              "      --disabled-fill-color: #AAA;\n",
              "      --disabled-bg-color: #DDD;\n",
              "  }\n",
              "\n",
              "  [theme=dark] .colab-df-quickchart {\n",
              "      --bg-color: #3B4455;\n",
              "      --fill-color: #D2E3FC;\n",
              "      --hover-bg-color: #434B5C;\n",
              "      --hover-fill-color: #FFFFFF;\n",
              "      --disabled-bg-color: #3B4455;\n",
              "      --disabled-fill-color: #666;\n",
              "  }\n",
              "\n",
              "  .colab-df-quickchart {\n",
              "    background-color: var(--bg-color);\n",
              "    border: none;\n",
              "    border-radius: 50%;\n",
              "    cursor: pointer;\n",
              "    display: none;\n",
              "    fill: var(--fill-color);\n",
              "    height: 32px;\n",
              "    padding: 0;\n",
              "    width: 32px;\n",
              "  }\n",
              "\n",
              "  .colab-df-quickchart:hover {\n",
              "    background-color: var(--hover-bg-color);\n",
              "    box-shadow: 0 1px 2px rgba(60, 64, 67, 0.3), 0 1px 3px 1px rgba(60, 64, 67, 0.15);\n",
              "    fill: var(--button-hover-fill-color);\n",
              "  }\n",
              "\n",
              "  .colab-df-quickchart-complete:disabled,\n",
              "  .colab-df-quickchart-complete:disabled:hover {\n",
              "    background-color: var(--disabled-bg-color);\n",
              "    fill: var(--disabled-fill-color);\n",
              "    box-shadow: none;\n",
              "  }\n",
              "\n",
              "  .colab-df-spinner {\n",
              "    border: 2px solid var(--fill-color);\n",
              "    border-color: transparent;\n",
              "    border-bottom-color: var(--fill-color);\n",
              "    animation:\n",
              "      spin 1s steps(1) infinite;\n",
              "  }\n",
              "\n",
              "  @keyframes spin {\n",
              "    0% {\n",
              "      border-color: transparent;\n",
              "      border-bottom-color: var(--fill-color);\n",
              "      border-left-color: var(--fill-color);\n",
              "    }\n",
              "    20% {\n",
              "      border-color: transparent;\n",
              "      border-left-color: var(--fill-color);\n",
              "      border-top-color: var(--fill-color);\n",
              "    }\n",
              "    30% {\n",
              "      border-color: transparent;\n",
              "      border-left-color: var(--fill-color);\n",
              "      border-top-color: var(--fill-color);\n",
              "      border-right-color: var(--fill-color);\n",
              "    }\n",
              "    40% {\n",
              "      border-color: transparent;\n",
              "      border-right-color: var(--fill-color);\n",
              "      border-top-color: var(--fill-color);\n",
              "    }\n",
              "    60% {\n",
              "      border-color: transparent;\n",
              "      border-right-color: var(--fill-color);\n",
              "    }\n",
              "    80% {\n",
              "      border-color: transparent;\n",
              "      border-right-color: var(--fill-color);\n",
              "      border-bottom-color: var(--fill-color);\n",
              "    }\n",
              "    90% {\n",
              "      border-color: transparent;\n",
              "      border-bottom-color: var(--fill-color);\n",
              "    }\n",
              "  }\n",
              "</style>\n",
              "\n",
              "      <script>\n",
              "        async function quickchart(key) {\n",
              "          const quickchartButtonEl =\n",
              "            document.querySelector('#' + key + ' button');\n",
              "          quickchartButtonEl.disabled = true;  // To prevent multiple clicks.\n",
              "          quickchartButtonEl.classList.add('colab-df-spinner');\n",
              "          try {\n",
              "            const charts = await google.colab.kernel.invokeFunction(\n",
              "                'suggestCharts', [key], {});\n",
              "          } catch (error) {\n",
              "            console.error('Error during call to suggestCharts:', error);\n",
              "          }\n",
              "          quickchartButtonEl.classList.remove('colab-df-spinner');\n",
              "          quickchartButtonEl.classList.add('colab-df-quickchart-complete');\n",
              "        }\n",
              "        (() => {\n",
              "          let quickchartButtonEl =\n",
              "            document.querySelector('#df-13af1feb-ab72-444f-b768-45ecabe2d69b button');\n",
              "          quickchartButtonEl.style.display =\n",
              "            google.colab.kernel.accessAllowed ? 'block' : 'none';\n",
              "        })();\n",
              "      </script>\n",
              "    </div>\n",
              "\n",
              "  <div id=\"id_49b40473-900d-432f-b30d-d6580fe17219\">\n",
              "    <style>\n",
              "      .colab-df-generate {\n",
              "        background-color: #E8F0FE;\n",
              "        border: none;\n",
              "        border-radius: 50%;\n",
              "        cursor: pointer;\n",
              "        display: none;\n",
              "        fill: #1967D2;\n",
              "        height: 32px;\n",
              "        padding: 0 0 0 0;\n",
              "        width: 32px;\n",
              "      }\n",
              "\n",
              "      .colab-df-generate:hover {\n",
              "        background-color: #E2EBFA;\n",
              "        box-shadow: 0px 1px 2px rgba(60, 64, 67, 0.3), 0px 1px 3px 1px rgba(60, 64, 67, 0.15);\n",
              "        fill: #174EA6;\n",
              "      }\n",
              "\n",
              "      [theme=dark] .colab-df-generate {\n",
              "        background-color: #3B4455;\n",
              "        fill: #D2E3FC;\n",
              "      }\n",
              "\n",
              "      [theme=dark] .colab-df-generate:hover {\n",
              "        background-color: #434B5C;\n",
              "        box-shadow: 0px 1px 3px 1px rgba(0, 0, 0, 0.15);\n",
              "        filter: drop-shadow(0px 1px 2px rgba(0, 0, 0, 0.3));\n",
              "        fill: #FFFFFF;\n",
              "      }\n",
              "    </style>\n",
              "    <button class=\"colab-df-generate\" onclick=\"generateWithVariable('df_balance')\"\n",
              "            title=\"Generate code using this dataframe.\"\n",
              "            style=\"display:none;\">\n",
              "\n",
              "  <svg xmlns=\"http://www.w3.org/2000/svg\" height=\"24px\"viewBox=\"0 0 24 24\"\n",
              "       width=\"24px\">\n",
              "    <path d=\"M7,19H8.4L18.45,9,17,7.55,7,17.6ZM5,21V16.75L18.45,3.32a2,2,0,0,1,2.83,0l1.4,1.43a1.91,1.91,0,0,1,.58,1.4,1.91,1.91,0,0,1-.58,1.4L9.25,21ZM18.45,9,17,7.55Zm-12,3A5.31,5.31,0,0,0,4.9,8.1,5.31,5.31,0,0,0,1,6.5,5.31,5.31,0,0,0,4.9,4.9,5.31,5.31,0,0,0,6.5,1,5.31,5.31,0,0,0,8.1,4.9,5.31,5.31,0,0,0,12,6.5,5.46,5.46,0,0,0,6.5,12Z\"/>\n",
              "  </svg>\n",
              "    </button>\n",
              "    <script>\n",
              "      (() => {\n",
              "      const buttonEl =\n",
              "        document.querySelector('#id_49b40473-900d-432f-b30d-d6580fe17219 button.colab-df-generate');\n",
              "      buttonEl.style.display =\n",
              "        google.colab.kernel.accessAllowed ? 'block' : 'none';\n",
              "\n",
              "      buttonEl.onclick = () => {\n",
              "        google.colab.notebook.generateWithVariable('df_balance');\n",
              "      }\n",
              "      })();\n",
              "    </script>\n",
              "  </div>\n",
              "\n",
              "    </div>\n",
              "  </div>\n"
            ],
            "application/vnd.google.colaboratory.intrinsic+json": {
              "type": "dataframe",
              "variable_name": "df_balance"
            }
          },
          "metadata": {},
          "execution_count": 12
        }
      ]
    },
    {
      "cell_type": "code",
      "source": [
        "net_debt = df_balance['NetDebt'].iloc[-1] #take last row\n",
        "net_debt"
      ],
      "metadata": {
        "colab": {
          "base_uri": "https://localhost:8080/"
        },
        "id": "GbIFPvt0Z77c",
        "outputId": "1d66bd77-cb88-4fba-b5f7-63d65cad0433"
      },
      "execution_count": null,
      "outputs": [
        {
          "output_type": "execute_result",
          "data": {
            "text/plain": [
              "np.float64(76686000000.0)"
            ]
          },
          "metadata": {},
          "execution_count": 23
        }
      ]
    },
    {
      "cell_type": "markdown",
      "source": [
        "### Create a Convert to List Function for Future Wrangling"
      ],
      "metadata": {
        "id": "HG0YHte2cD8h"
      }
    },
    {
      "cell_type": "code",
      "source": [
        "def column_to_list(df, column_name):\n",
        "    data_list = df[column_name].tolist()\n",
        "    data_list = [x for x in data_list if pd.notnull(x)]\n",
        "    return data_list"
      ],
      "metadata": {
        "id": "iDFZfg3rZ7-C"
      },
      "execution_count": null,
      "outputs": []
    },
    {
      "cell_type": "code",
      "source": [
        "historic_fcf = column_to_list(df_cash, 'FreeCashFlow')\n",
        "historic_fcf"
      ],
      "metadata": {
        "colab": {
          "base_uri": "https://localhost:8080/"
        },
        "id": "Mj8iNZ8xZ8AZ",
        "outputId": "1ccda539-cb48-4e21-ad8a-7f0a6be412e6"
      },
      "execution_count": null,
      "outputs": [
        {
          "output_type": "execute_result",
          "data": {
            "text/plain": [
              "[92953000000.0, 111443000000.0, 99584000000.0, 108807000000.0, 96184000000.0]"
            ]
          },
          "metadata": {},
          "execution_count": 19
        }
      ]
    },
    {
      "cell_type": "markdown",
      "source": [
        "### Calculate Average Growth Rate of FCF for Simple Forecasting"
      ],
      "metadata": {
        "id": "xVi0jqZncpEG"
      }
    },
    {
      "cell_type": "code",
      "source": [
        "fcf_avg_growth_rate = np.mean([(historic_fcf[i] - historic_fcf[i-1]) / historic_fcf[i-1] for i in range(1, len(historic_fcf))])\n",
        "\n",
        "fcf_avg_growth_rate #Average growth rate for AAPL is about 1.72%"
      ],
      "metadata": {
        "colab": {
          "base_uri": "https://localhost:8080/"
        },
        "id": "81PNiat-ctTL",
        "outputId": "da4667e2-d7cf-4a1c-8024-96cc500a3d32"
      },
      "execution_count": null,
      "outputs": [
        {
          "output_type": "execute_result",
          "data": {
            "text/plain": [
              "np.float64(0.017276777927319735)"
            ]
          },
          "metadata": {},
          "execution_count": 20
        }
      ]
    },
    {
      "cell_type": "markdown",
      "source": [
        "### Future projections (next 5 years)\n",
        "\n",
        "- This is a simple forecast that uses the average growth rate. A more sophisticated model with more historic data and complex forecasting may be needed to improve the model."
      ],
      "metadata": {
        "id": "CI-DdGBDdV4V"
      }
    },
    {
      "cell_type": "code",
      "source": [
        "#using the average growth rate calculated, we can project for the upcoming years how its free cash flows will be\n",
        "\n",
        "future_year = 5\n",
        "future_fcf = [historic_fcf[-1] * (1 + fcf_avg_growth_rate) ** (i+1) for i in range(future_year)]\n",
        "future_fcf"
      ],
      "metadata": {
        "colab": {
          "base_uri": "https://localhost:8080/"
        },
        "id": "aGoaiVASdhKA",
        "outputId": "e44592a0-d081-4819-a3fc-a177084353c8"
      },
      "execution_count": null,
      "outputs": [
        {
          "output_type": "execute_result",
          "data": {
            "text/plain": [
              "[np.float64(97845749608.16132),\n",
              " np.float64(99536208895.27367),\n",
              " np.float64(101255873872.08461),\n",
              " np.float64(103005249118.80931),\n",
              " np.float64(104784847933.18323)]"
            ]
          },
          "metadata": {},
          "execution_count": 21
        }
      ]
    },
    {
      "cell_type": "code",
      "source": [
        "import matplotlib.pyplot as plt\n",
        "\n",
        "\n",
        "historical_years = [2021, 2022, 2023, 2024, 2025]\n",
        "\n",
        "forecast_years = [2026, 2027, 2028, 2029, 2030]\n",
        "\n",
        "#combine data for plotting\n",
        "all_years = historical_years + forecast_years\n",
        "all_fcf = historic_fcf + future_fcf\n",
        "\n",
        "#Create the plot\n",
        "plt.figure(figsize = (12,6))\n",
        "\n",
        "#Plot historical data\n",
        "plt.plot(historical_years, historic_fcf, marker = 'o', linestyle = '-', color = 'blue', label = 'Historical FCF')\n",
        "\n",
        "#Plot forecast data\n",
        "plt.plot(forecast_years, future_fcf, marker = 'o', linestyle = '--', color = 'red', label = 'Forecast FCF')\n",
        "\n",
        "#Add a vertical line to seperate historical and forecast data\n",
        "plt.axvline(x=historical_years[-1], color = 'gray' , linestyle=\":\", label= 'Current Year')\n",
        "\n",
        "#customise the plot\n",
        "\n",
        "plt.title('Free Cash Flow: Historical vs Forecast', fontsize = 16)\n",
        "plt.xlabel('Year', fontsize = 12)\n",
        "plt.ylabel('Free Cash Flow (in millions)', fontsize=12)\n",
        "\n",
        "plt.grid(True, linestyle='--', alpha=0.7)\n",
        "plt.legend()\n",
        "\n",
        "#Adjust y-axis to start from 0\n",
        "plt.ylim(bottom = 0)\n",
        "\n",
        "#add data labels\n",
        "for i, value in enumerate(all_fcf):\n",
        "  plt.text(all_years[i], value, f'{value}', ha='center', va='bottom')\n",
        "\n",
        "#Show the plot\n",
        "plt.tight_layout()\n",
        "plt.show()"
      ],
      "metadata": {
        "colab": {
          "base_uri": "https://localhost:8080/",
          "height": 627
        },
        "id": "LqQ2vK17dhMh",
        "outputId": "0d081657-ad84-475f-d3a6-a6ff7b3b3ef0"
      },
      "execution_count": null,
      "outputs": [
        {
          "output_type": "display_data",
          "data": {
            "text/plain": [
              "<Figure size 1200x600 with 1 Axes>"
            ],
            "image/png": "[encoded data removed]"
          },
          "metadata": {}
        }
      ]
    },
    {
      "cell_type": "markdown",
      "source": [
        "### **Get Number of Outstanding shares**\n",
        "Number of shares outstanding as of September 2025 : 14,902,886,000"
      ],
      "metadata": {
        "id": "pB-5uuyLkaaA"
      }
    },
    {
      "cell_type": "code",
      "source": [
        "import requests\n",
        "\n",
        "#Web Scraping - as outsanding shares value is not available on yahoo query\n",
        "from bs4 import BeautifulSoup\n",
        "\n",
        "company = 'apple'\n",
        "\n",
        "url = f\"https://companiesmarketcap.com/{company}/shares-outstanding/\"\n",
        "response = requests.get(url)\n",
        "response\n",
        "\n",
        "#Parse HTML\n",
        "soup = BeautifulSoup(response.content, 'html.parser')\n",
        "\n",
        "shares_outstanding_element = soup.find('span', class_ = 'background-ya')\n",
        "shares_outstanding = shares_outstanding_element.text.strip() if shares_outstanding_element else \"Not Found\"\n",
        "\n",
        "shares_outstanding"
      ],
      "metadata": {
        "colab": {
          "base_uri": "https://localhost:8080/",
          "height": 35
        },
        "id": "1MTNepCiehzt",
        "outputId": "32c09197-9237-4c10-92a9-af762440da41"
      },
      "execution_count": null,
      "outputs": [
        {
          "output_type": "execute_result",
          "data": {
            "text/plain": [
              "'14,902,886,000'"
            ],
            "application/vnd.google.colaboratory.intrinsic+json": {
              "type": "string"
            }
          },
          "metadata": {},
          "execution_count": 31
        }
      ]
    },
    {
      "cell_type": "code",
      "source": [
        "def string_to_number(s):\n",
        "  try:\n",
        "    return int(s.replace(',', ''))\n",
        "  except ValueError:\n",
        "    try:\n",
        "      return float(s.replace(',', ''))\n",
        "    except ValueError: #if it can't be resolved to a int or float\n",
        "      print(f\"Error: Unable to convert {s} to a number\")\n",
        "      return None\n",
        "\n",
        "shares_outstanding_num = string_to_number(shares_outstanding)\n",
        "shares_outstanding_num"
      ],
      "metadata": {
        "colab": {
          "base_uri": "https://localhost:8080/"
        },
        "id": "GVrCzQiUlE9Z",
        "outputId": "bc28d3ac-570e-4905-9198-382d883aae09"
      },
      "execution_count": null,
      "outputs": [
        {
          "output_type": "execute_result",
          "data": {
            "text/plain": [
              "14902886000"
            ]
          },
          "metadata": {},
          "execution_count": 32
        }
      ]
    },
    {
      "cell_type": "markdown",
      "source": [
        "### **Get WACC**\n",
        "\n",
        "There are ways to caluclate WACC on our own using Cost of equity, tax rate, cost of debt.. but we can try to web scrape it off"
      ],
      "metadata": {
        "id": "yowzKOSGmRya"
      }
    },
    {
      "cell_type": "code",
      "source": [
        "import requests\n",
        "from bs4 import BeautifulSoup\n",
        "\n",
        "def get_wacc(symbol: str):\n",
        "    \"\"\"\n",
        "    Fetch the WACC (Weighted Average Cost of Capital) for a given stock symbol\n",
        "    from valueinvesting.io.\n",
        "    \"\"\"\n",
        "\n",
        "    # Build the URL\n",
        "    url = f\"https://valueinvesting.io/{symbol}/valuation/wacc\"\n",
        "\n",
        "    # Send a GET request\n",
        "    response = requests.get(url)\n",
        "    if response.status_code != 200:\n",
        "        print(f\"Failed to fetch page. Status code: {response.status_code}\")\n",
        "        return None\n",
        "\n",
        "    # Parse the HTML content\n",
        "    soup = BeautifulSoup(response.content, 'html.parser')\n",
        "\n",
        "    # Find the element containing the WACC value\n",
        "    # (WACC is in a <td> with class \"align_right orange\")\n",
        "    wacc_element = soup.find('td', class_='align_right orange')\n",
        "\n",
        "    if not wacc_element:\n",
        "        print(\"WACC value not found on the page.\")\n",
        "        return None\n",
        "\n",
        "    # Extract text and clean it\n",
        "    wacc_text = wacc_element.text.strip()\n",
        "    print(f\"WACC for {symbol.upper()}: {wacc_text}\")\n",
        "\n",
        "    try:\n",
        "        # Convert WACC to float (removing % sign if present)\n",
        "        wacc_float = float(wacc_text.rstrip('%'))\n",
        "        print(f\"WACC as a float: {wacc_float}%\")\n",
        "        return wacc_float\n",
        "    except ValueError:\n",
        "        print(\"Could not convert WACC to float.\")\n",
        "        return None\n",
        "\n",
        "\n",
        "# Example usage\n",
        "if __name__ == \"__main__\":\n",
        "    get_wacc(\"AAPL\")\n"
      ],
      "metadata": {
        "colab": {
          "base_uri": "https://localhost:8080/"
        },
        "id": "78_4_NQ7mYsE",
        "outputId": "084f4fbf-ea35-4b34-929a-9454dd7f237e"
      },
      "execution_count": null,
      "outputs": [
        {
          "output_type": "stream",
          "name": "stdout",
          "text": [
            "Failed to fetch page. Status code: 403\n"
          ]
        }
      ]
    },
    {
      "cell_type": "markdown",
      "source": [
        "Web scriping doesn't work well with https://valueinvesting.io/AAPL/valuation/wacc. We just take the Wacc value in this website which is 9.1%."
      ],
      "metadata": {
        "id": "iDlUEONOxHuG"
      }
    },
    {
      "cell_type": "markdown",
      "source": [
        "### **Discount Free Cash Flow Function**\n",
        "- Present value: (PV) is used to calculate the current value of a future sum of money or stream of cash flows, discounted at a specific rate (e.g WACC or discount rate). The formula accounts for the time value of money, which means that money today is worth more than the same amount in the future.\n",
        "\n"
      ],
      "metadata": {
        "id": "0NYWVh1onnKk"
      }
    },
    {
      "cell_type": "markdown",
      "source": [
        "![Screenshot 2025-09-21 at 10.14.32 PM.png](data:image/png;base64,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)"
      ],
      "metadata": {
        "id": "KK7rUwVeoDQ-"
      }
    },
    {
      "cell_type": "code",
      "source": [
        "#Convert the future free cash flows (estimated using the average growth model), into present value, based on wacc value\n",
        "\n",
        "def present_value(fcf, wacc):\n",
        "  return [fcf[i] / (1+wacc)**(i+1) for i in range(len(fcf))]\n",
        "\n",
        "#Step 1: Calculate Present Value\n",
        "pv = present_value(fcf = future_fcf, wacc = 0.091) #wacc value taken from https://valueinvesting.io/AAPL/valuation/wacc\n",
        "pv\n",
        "\n"
      ],
      "metadata": {
        "colab": {
          "base_uri": "https://localhost:8080/"
        },
        "id": "Q5gCHR5Lmk0a",
        "outputId": "1efead5b-124c-4276-e143-29e356edbec8"
      },
      "execution_count": null,
      "outputs": [
        {
          "output_type": "execute_result",
          "data": {
            "text/plain": [
              "[np.float64(89684463435.52824),\n",
              " np.float64(83624126483.80817),\n",
              " np.float64(77973310675.00919),\n",
              " np.float64(72704343031.89662),\n",
              " np.float64(67791420550.69696)]"
            ]
          },
          "metadata": {},
          "execution_count": 34
        }
      ]
    },
    {
      "cell_type": "markdown",
      "source": [
        "### DCF Function"
      ],
      "metadata": {
        "id": "8Vk6jHH6wqWS"
      }
    },
    {
      "cell_type": "code",
      "source": [
        "def DCF(fcf, wacc, terminal_growth_rate, net_debt, num_shares_outstanding = shares_outstanding):\n",
        "  pv_fcf = present_value(fcf, wacc)\n",
        "\n",
        "  #Step 2: Calculate the Terminal Value\n",
        "  # What's TV?\n",
        "  # After forecast period, its common to assume that the company will grow at a constant rate into perpetuity.\n",
        "  # The TV represents the present value of all future free cash flows beyond the forecast period\n",
        "  # Formula is most recent fcf * 1 + G / wacc - G. (G is long term petro growth rate)\n",
        "  terminal_value = (fcf[-1] * (1+terminal_growth_rate)) / (wacc - terminal_growth_rate)\n",
        "\n",
        "  # Step 3: Calculate PV of TV\n",
        "  pv_terminal_value = terminal_value/(1+wacc)**len(fcf)\n",
        "\n",
        "  #Step 4: Calculate Enterprise Value (EV)\n",
        "  # For this, we need to sum up the forecasted fcf and the terminal value\n",
        "\n",
        "  enterprise_value = sum(pv_fcf) + pv_terminal_value\n",
        "\n",
        "  #Step 5: Calculate the Equity Value which is equal to Enterprise Value - Net Debt\n",
        "  equity_value = enterprise_value - net_debt\n",
        "\n",
        "  #Step 6: Calculate Intrinsic Value\n",
        "  intrinsic_stock_price = equity_value / num_shares_outstanding\n",
        "\n",
        "  return print(f\"Intrinsic Stock Price: ${intrinsic_stock_price}\")"
      ],
      "metadata": {
        "id": "hHSy1tVeoKhC"
      },
      "execution_count": null,
      "outputs": []
    },
    {
      "cell_type": "code",
      "source": [
        "#terminal growth value here is 0.03 - industry standard, conservative value.\n",
        "DCF(fcf = future_fcf, wacc= 0.091, terminal_growth_rate = 0.03, net_debt = net_debt, num_shares_outstanding=shares_outstanding_num)"
      ],
      "metadata": {
        "colab": {
          "base_uri": "https://localhost:8080/"
        },
        "id": "79hcQCBXmYu8",
        "outputId": "d06ec15f-51b3-473b-f5eb-41a02a10f3b8"
      },
      "execution_count": null,
      "outputs": [
        {
          "output_type": "stream",
          "name": "stdout",
          "text": [
            "Intrinsic Stock Price: $97.95193160552287\n"
          ]
        }
      ]
    },
    {
      "cell_type": "markdown",
      "source": [
        "Our DCF analysis shows that the AAPL may be **overvalued**.\n",
        "\n",
        "Currently, AAPL is at $230.\n",
        "\n",
        "But based on our our discounted free cash flow model, AAPL stock should be at $97. assuming our future free cash flows we estimated are indeed true, and we performed present value and applied the appropriate wacc and terminal growth.\n",
        "\n",
        "\n",
        "Limitations\n",
        "- Using average growth rate as the forecast for future free cash flows is not the most sophisticated\n",
        "- Doesn't consider seasonaility, probability / likelihood of free cash flows increasing at a straight line, not realistic. usually we will see some stagnation etc.\n",
        "\n",
        "Potential Improvements\n",
        "- using other APIs e.g Alphavantage that offers more historical data. Yahoo query/ Yahoo finance only provides data for recent few years.\n",
        "- using a more sophisticated model instead of average growth rate to estinmate future free cash flows\n",
        "- A working, automated method to retrieve WACC\n"
      ],
      "metadata": {
        "id": "LQmdspNCvZG5"
      }
    },
    {
      "cell_type": "markdown",
      "source": [
        "# Conclusion\n",
        "\n",
        "DCF suggests Apple trades at a significant premium to intrinsic value.\n",
        "\n",
        "Market likely prices in continued innovation (AI, Vision Pro, services) and shareholder returns (buybacks, dividends) beyond conservative forecasts.\n",
        "\n",
        "Investors should weigh whether Apple’s growth optionality justifies the premium."
      ],
      "metadata": {
        "id": "gSOZRzIUznpS"
      }
    },
    {
      "cell_type": "code",
      "source": [],
      "metadata": {
        "id": "dLzXEFlt0cS0"
      },
      "execution_count": null,
      "outputs": []
    }
  ]
}